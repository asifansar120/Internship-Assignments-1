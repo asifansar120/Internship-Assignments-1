{
 "cells": [
  {
   "cell_type": "markdown",
   "id": "ecee28e7",
   "metadata": {},
   "source": [
    "# ⦁\tWrite a python program to find the factorial of a number.\n"
   ]
  },
  {
   "cell_type": "code",
   "execution_count": 1,
   "id": "44605620",
   "metadata": {},
   "outputs": [
    {
     "name": "stdout",
     "output_type": "stream",
     "text": [
      "Enter a number5\n",
      "the factorial of 5 is 1\n",
      "the factorial of 5 is 2\n",
      "the factorial of 5 is 6\n",
      "the factorial of 5 is 24\n",
      "the factorial of 5 is 120\n"
     ]
    }
   ],
   "source": [
    "number=int(input('Enter a number'))\n",
    "factorial=1\n",
    "if number<0:\n",
    "    print('Factorial doesnot exist for negative number')\n",
    "elif number==0:\n",
    "    print('the factorial of 0 is 1')\n",
    "else:\n",
    "    for i in range(1,number+1):\n",
    "     factorial=factorial*i\n",
    "     print('the factorial of',number,'is',factorial)"
   ]
  },
  {
   "cell_type": "code",
   "execution_count": 5,
   "id": "2c0e02ef",
   "metadata": {},
   "outputs": [
    {
     "data": {
      "text/plain": [
       "False"
      ]
     },
     "execution_count": 5,
     "metadata": {},
     "output_type": "execute_result"
    }
   ],
   "source": []
  },
  {
   "cell_type": "markdown",
   "id": "1738650b",
   "metadata": {},
   "source": [
    "# ⦁\tWrite a python program to find whether a number is prime or composite"
   ]
  },
  {
   "cell_type": "code",
   "execution_count": 24,
   "id": "2c5fafcd",
   "metadata": {},
   "outputs": [
    {
     "name": "stdout",
     "output_type": "stream",
     "text": [
      "Enter a number17\n",
      "this is a Prime Number\n"
     ]
    }
   ],
   "source": [
    "n=int(input('Enter a number'))\n",
    "if n<2:\n",
    "    print('this is a Composite number')\n",
    "else:\n",
    "     for i in range(2,n):\n",
    "        if n%i==0:\n",
    "            print('this is a Composite number')\n",
    "            break\n",
    "     else:\n",
    "        print('this is a Prime Number')\n",
    "            \n",
    "        "
   ]
  },
  {
   "cell_type": "markdown",
   "id": "1a44ae6a",
   "metadata": {},
   "source": [
    "# ⦁\tWrite a python program to check whether a given string is palindrome or not.\n"
   ]
  },
  {
   "cell_type": "code",
   "execution_count": 51,
   "id": "75a09be4",
   "metadata": {},
   "outputs": [
    {
     "name": "stdout",
     "output_type": "stream",
     "text": [
      "Enter the number342\n",
      "it is not a palindrome\n"
     ]
    }
   ],
   "source": [
    "i=int(input('Enter the number'))\n",
    "rev=0\n",
    "x=i\n",
    "while (i>0):\n",
    "    rev=rev*10+i%10\n",
    "    i=i//10\n",
    "if (x==rev):\n",
    "  print('it is a palindrome')\n",
    "else:\n",
    "  print('it is not a palindrome')"
   ]
  },
  {
   "cell_type": "markdown",
   "id": "40afc187",
   "metadata": {},
   "source": [
    "# ⦁\tWrite a Python program to get the third side of right-angled triangle from two given sides.\n"
   ]
  },
  {
   "cell_type": "code",
   "execution_count": 58,
   "id": "6f8c20b2",
   "metadata": {},
   "outputs": [],
   "source": [
    "from math import sqrt"
   ]
  },
  {
   "cell_type": "code",
   "execution_count": 59,
   "id": "c55cf5e5",
   "metadata": {},
   "outputs": [],
   "source": [
    "def hypofunction(length,breath):\n",
    "    hypotenous=sqrt(length**2+breath**2)\n",
    "    print('the value of hypotenous is',hypotenous)\n",
    "    return hypotenous"
   ]
  },
  {
   "cell_type": "code",
   "execution_count": 62,
   "id": "fcaca845",
   "metadata": {},
   "outputs": [
    {
     "name": "stdout",
     "output_type": "stream",
     "text": [
      "the value of hypotenous is 13.0\n"
     ]
    },
    {
     "data": {
      "text/plain": [
       "13.0"
      ]
     },
     "execution_count": 62,
     "metadata": {},
     "output_type": "execute_result"
    }
   ],
   "source": [
    "hypofunction(12,5)"
   ]
  },
  {
   "cell_type": "markdown",
   "id": "368bac8d",
   "metadata": {},
   "source": [
    "# ⦁\tWrite a python program to print the frequency of each of the characters present in a given string.\n",
    "\n"
   ]
  },
  {
   "cell_type": "code",
   "execution_count": 77,
   "id": "b703ffd4",
   "metadata": {},
   "outputs": [
    {
     "name": "stdout",
     "output_type": "stream",
     "text": [
      "Enter the stringasifansar\n",
      "{'a': 3, 's': 2, 'i': 1, 'f': 1, 'n': 1, 'r': 1}\n"
     ]
    }
   ],
   "source": [
    "str=input('Enter the string')\n",
    "d1=dict()\n",
    "for c in str:\n",
    "    if c in d1:\n",
    "        d1[c]=d1[c]+1\n",
    "    else:\n",
    "        d1[c]=1\n",
    "print(d1)        "
   ]
  },
  {
   "cell_type": "code",
   "execution_count": 82,
   "id": "f10eb058",
   "metadata": {},
   "outputs": [
    {
     "data": {
      "text/plain": [
       "3.0"
      ]
     },
     "execution_count": 82,
     "metadata": {},
     "output_type": "execute_result"
    }
   ],
   "source": [
    "6/2"
   ]
  },
  {
   "cell_type": "code",
   "execution_count": null,
   "id": "42cd74b5",
   "metadata": {},
   "outputs": [],
   "source": []
  }
 ],
 "metadata": {
  "kernelspec": {
   "display_name": "Python 3",
   "language": "python",
   "name": "python3"
  },
  "language_info": {
   "codemirror_mode": {
    "name": "ipython",
    "version": 3
   },
   "file_extension": ".py",
   "mimetype": "text/x-python",
   "name": "python",
   "nbconvert_exporter": "python",
   "pygments_lexer": "ipython3",
   "version": "3.8.8"
  }
 },
 "nbformat": 4,
 "nbformat_minor": 5
}
